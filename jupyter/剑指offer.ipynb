{
 "cells": [
  {
   "cell_type": "markdown",
   "metadata": {},
   "source": [
    "# [剑指offer题解](https://www.nowcoder.com/ta/coding-interviews)"
   ]
  },
  {
   "cell_type": "markdown",
   "metadata": {},
   "source": [
    "## [01-二维数组中的查找](https://www.nowcoder.com/practice/abc3fe2ce8e146608e868a70efebf62e)\n",
    "\n",
    "> 在一个二维数组中（每个一维数组的长度相同），每一行都按照从左到右递增的顺序排序，每一列都按照从上到下递增的顺序排序。请完成一个函数，输入这样的一个二维数组和一个整数，判断数组中是否含有该整数。\n",
    "\n",
    "**知识点：**`数组` `查找`\n",
    "\n",
    "**解题思路：**\n",
    "\n",
    "1. 遍历整个二维数组，O(n^2) \n",
    "2. 从右上或者左下开始查找。从右上开始查找：如果数组中的数比这个整数大，向左移动一位，如果数组中的数比这个数小，向下移动一位，O(n)\n"
   ]
  },
  {
   "cell_type": "code",
   "execution_count": 1,
   "metadata": {
    "code_folding": []
   },
   "outputs": [],
   "source": [
    "# -*- coding:utf-8 -*-\n",
    "class Solution:\n",
    "    # array 二维列表\n",
    "    def Find(self, target, array):\n",
    "        # write code here\n",
    "        if array is None:\n",
    "            return False\n",
    "\n",
    "        row, colum = len(array), len(array[0])\n",
    "        i, j = row - 1, 0\n",
    "\n",
    "        # 从右上角开始搜索\n",
    "        while i >= 0 and j < colum:\n",
    "            if array[i][j] > target:\n",
    "                i -= 1\n",
    "            elif array[i][j] < target:\n",
    "                j += 1\n",
    "            else:\n",
    "                return True\n",
    "\n",
    "        return False"
   ]
  },
  {
   "cell_type": "markdown",
   "metadata": {},
   "source": [
    "## [02-替换空格](https://www.nowcoder.com/practice/4060ac7e3e404ad1a894ef3e17650423)\n",
    "\n",
    "> 请实现一个函数，将一个字符串中的每个空格替换成“%20”。例如，当字符串为We Are Happy.则经过替换之后的字符串为We%20Are%20Happy。\n",
    "\n",
    "**知识点：**`字符串`\n",
    "\n",
    "**解题思路：**\n",
    "\n",
    "1. 先计算最终需要给出的长度，然后建立两个指针p1,p2，p1指向原始字符串的末尾，p2指向替换后的字符串的末尾。同时移动p1,p2, 将p1指的内容逐个复制到p2, 当p1遇到空格时，在p2处插入 %20， p1向前移动一个位置，p2向前移动3个位置，当p1和p2位置重合时，全部替换完成。O(n)\n",
    "2. python中可以利用append() [O(1)]，新建list，一次遍历，碰到空格就添加 %20，否则就添加原始字符串s内容\t"
   ]
  },
  {
   "cell_type": "code",
   "execution_count": 9,
   "metadata": {
    "ExecuteTime": {
     "end_time": "2021-04-15T04:06:38.588001Z",
     "start_time": "2021-04-15T04:06:38.584774Z"
    }
   },
   "outputs": [],
   "source": [
    "# -*- coding:utf-8 -*-\n",
    "class Solution:\n",
    "    # s 源字符串\n",
    "    def replaceSpace(self, s):\n",
    "        # write code here\n",
    "        result = ''\n",
    "\n",
    "        for c in s:\n",
    "            if c == ' ':\n",
    "                result += '%20'\n",
    "            else:\n",
    "                result += c\n",
    "\n",
    "        return result"
   ]
  },
  {
   "cell_type": "markdown",
   "metadata": {},
   "source": [
    "## [03-从尾到头打印链表](https://www.nowcoder.com/practice/d0267f7f55b3412ba93bd35cfa8e8035)\n",
    "\n",
    "> 输入一个链表，按链表从尾到头的顺序返回一个ArrayList\n",
    "\n",
    "**知识点：**`链表`\n",
    "\n",
    "**解题思路：**\n",
    "\n",
    "1. 遍历链表，保存在list中，然后倒序输出.\n",
    "2. 同样使用list，但是将其插入在list的0位置处。"
   ]
  },
  {
   "cell_type": "code",
   "execution_count": 10,
   "metadata": {
    "ExecuteTime": {
     "end_time": "2021-04-15T04:09:31.272299Z",
     "start_time": "2021-04-15T04:09:31.268790Z"
    }
   },
   "outputs": [],
   "source": [
    "# -*- coding:utf-8 -*-\n",
    "# class ListNode:\n",
    "#     def __init__(self, x):\n",
    "#         self.val = x\n",
    "#         self.next = None\n",
    "\n",
    "class Solution:\n",
    "    # 返回从尾部到头部的列表值序列，例如[1,2,3]\n",
    "    def printListFromTailToHead(self, listNode):\n",
    "        # write code here\n",
    "        result, cur = [], listNode\n",
    "        \n",
    "        while cur:\n",
    "            result.append(cur.val)\n",
    "            cur = cur.next\n",
    "            \n",
    "        return result[::-1]"
   ]
  },
  {
   "cell_type": "markdown",
   "metadata": {},
   "source": [
    "## [04-重建二叉树](https://www.nowcoder.com/practice/8a19cbe657394eeaac2f6ea9b0f6fcf6)\n",
    "\n",
    "> 输入某二叉树的前序遍历和中序遍历的结果，请重建出该二叉树。假设输入的前序遍历和中序遍历的结果中都不含重复的数字。例如输入前序遍历序列{1,2,4,7,3,5,6,8}和中序遍历序列{4,7,2,1,5,3,8,6}，则重建二叉树并返回。\n",
    "\n",
    "**知识点：**`树`\n",
    "\n",
    "**解题思路：**\n",
    "\n",
    "1. 先序遍历和中序遍历的关系，先序遍历的第一个值是根节点的值。在中序遍历中，根节点左边的值是左子树，右边的值是右子树上的值"
   ]
  },
  {
   "cell_type": "code",
   "execution_count": 11,
   "metadata": {
    "ExecuteTime": {
     "end_time": "2021-04-15T06:20:53.941280Z",
     "start_time": "2021-04-15T06:20:53.936961Z"
    }
   },
   "outputs": [],
   "source": [
    "# -*- coding:utf-8 -*-\n",
    "# class TreeNode:\n",
    "#     def __init__(self, x):\n",
    "#         self.val = x\n",
    "#         self.left = None\n",
    "#         self.right = None\n",
    "class Solution:\n",
    "    # 返回构造的TreeNode根节点\n",
    "    def reConstructBinaryTree(self, pre, tin):\n",
    "        # write code here\n",
    "        if not pre or not tin:\n",
    "            return None\n",
    "\n",
    "        root, index = TreeNode(pre[0]), tin.index(pre[0])\n",
    "        root.left = self.reConstructBinaryTree(pre[1:index + 1], tin[:index])\n",
    "        root.right = self.reConstructBinaryTree(pre[index + 1:],\n",
    "                                                tin[index + 1:])\n",
    "\n",
    "        return root"
   ]
  },
  {
   "cell_type": "markdown",
   "metadata": {},
   "source": [
    "## [05-用两个栈实现一个队列](https://www.nowcoder.com/practice/54275ddae22f475981afa2244dd448c6)\n",
    "\n",
    "> 用两个栈来实现一个队列，完成队列的Push和Pop操作。 队列中的元素为int类型。\n",
    "\n",
    "**知识点：**`队列` `栈`\n",
    "\n",
    "**解题思路：**\n",
    "\n",
    "1. 一个栈负责入队，另一个负责出队，出栈为空则从入栈中导入到出栈中"
   ]
  },
  {
   "cell_type": "code",
   "execution_count": 13,
   "metadata": {
    "ExecuteTime": {
     "end_time": "2021-04-15T06:40:16.524676Z",
     "start_time": "2021-04-15T06:40:16.520405Z"
    }
   },
   "outputs": [],
   "source": [
    "# -*- coding:utf-8 -*-\n",
    "class Solution:\n",
    "    def __init__(self):\n",
    "        self.stack_first = []\n",
    "        self.stack_second = []\n",
    "\n",
    "    def push(self, node):\n",
    "        # 第一个栈负责入队\n",
    "        self.stack_first.append(node)\n",
    "\n",
    "    def pop(self):\n",
    "        # 第二个负责出栈。如果第二个栈没有数据，就把第一个栈数据全部挪到第二个\n",
    "        if not self.stack_first and not self.stack_second:\n",
    "            return\n",
    "        elif not self.stack_second:\n",
    "            while self.stack_first:\n",
    "                self.stack_second.append(self.stack_first.pop())\n",
    "\n",
    "        return self.stack_second.pop()"
   ]
  },
  {
   "cell_type": "markdown",
   "metadata": {},
   "source": [
    "## [06-旋转数组的最小数字](https://www.nowcoder.com/practice/9f3231a991af4f55b95579b44b7a01ba)\n",
    "\n",
    "> 把一个数组最开始的若干个元素搬到数组的末尾，我们称之为数组的旋转。\n",
    "输入一个非递减排序的数组的一个旋转，输出旋转数组的最小元素。\n",
    "NOTE：给出的所有元素都大于0，若数组大小为0，请返回0。\n",
    "\n",
    "**知识点：** `二分`"
   ]
  },
  {
   "cell_type": "code",
   "execution_count": 15,
   "metadata": {
    "ExecuteTime": {
     "end_time": "2021-04-15T07:02:30.100861Z",
     "start_time": "2021-04-15T07:02:30.095616Z"
    }
   },
   "outputs": [],
   "source": [
    "# -*- coding:utf-8 -*-\n",
    "class Solution:\n",
    "    def minNumberInRotateArray(self, rotateArray):\n",
    "        # 找到第一个比前面元素大的；如果都没有就是第一个元素\n",
    "        if not rotateArray:\n",
    "            return 0\n",
    "\n",
    "        target = 0\n",
    "        length = len(rotateArray)\n",
    "\n",
    "        for i in range(0, length - 1):\n",
    "            if rotateArray[i] > rotateArray[i + 1]:\n",
    "                return rotateArray[i + 1]\n",
    "\n",
    "        return rotateArray[0]\n",
    "\n",
    "    def binarySearch(self, rotateArray):\n",
    "        # 分为递增数组和旋转数组，找出旋转那部分\n",
    "        if not rotateArray:\n",
    "            return 0\n",
    "        \n",
    "        l = 0\n",
    "        r = len(rotateArray) - 1\n",
    "\n",
    "        while l < r:\n",
    "            m = l + (r - l) // 2\n",
    "            \n",
    "            if rotateArray[m] <= rotateArray[r]:\n",
    "                r = m\n",
    "            else:\n",
    "                l = m + 1\n",
    "                \n",
    "        return rotateArray[l]"
   ]
  },
  {
   "cell_type": "markdown",
   "metadata": {},
   "source": [
    "## [07-斐波那契数列](https://www.nowcoder.com/practice/c6c7742f5ba7442aada113136ddea0c3)\n",
    "\n",
    "> 大家都知道斐波那契数列，现在要求输入一个整数n，请你输出斐波那契数列的第n项（从0开始，第0项为0，第1项是1）。\n",
    "n≤39\n",
    "\n",
    "**知识点：** `数组`"
   ]
  },
  {
   "cell_type": "code",
   "execution_count": 16,
   "metadata": {
    "ExecuteTime": {
     "end_time": "2021-04-15T07:16:38.521355Z",
     "start_time": "2021-04-15T07:16:38.518028Z"
    }
   },
   "outputs": [],
   "source": [
    "# -*- coding:utf-8 -*-\n",
    "class Solution:\n",
    "    def Fibonacci(self, n):\n",
    "        # write code here\n",
    "        \n",
    "        if n == 0:\n",
    "            return 0\n",
    "        else:\n",
    "            first, second = 0, 1\n",
    "            \n",
    "            for _ in range(n):\n",
    "                first, second = second, first + second\n",
    "                \n",
    "        return first"
   ]
  },
  {
   "cell_type": "markdown",
   "metadata": {},
   "source": [
    "## [08-跳台阶](https://www.nowcoder.com/practice/8c82a5b80378478f9484d87d1c5f12a4)\n",
    "\n",
    "> 一只青蛙一次可以跳上1级台阶，也可以跳上2级。求该青蛙跳上一个n级的台阶总共有多少种跳法（先后次序不同算不同的结果）。\n",
    "\n",
    "**知识点：** `递归`\n",
    "\n",
    "**思路：**\n",
    "1. 斐波那契数列递归或者迭代\n",
    "2. 动态规划：dp[n] = dp[n-1] + dp[n-2]"
   ]
  },
  {
   "cell_type": "code",
   "execution_count": null,
   "metadata": {},
   "outputs": [],
   "source": [
    "# -*- coding:utf-8 -*-\n",
    "class Solution:\n",
    "    def jumpFloor(self, number):\n",
    "        if number == 0 or number == 1:\n",
    "            return number\n",
    "        \n",
    "        a, b = 1, 1\n",
    "        \n",
    "        for i in range(2, number+1):\n",
    "            a, b = b, a + b\n",
    "            \n",
    "        return b"
   ]
  },
  {
   "cell_type": "markdown",
   "metadata": {},
   "source": [
    "## [09-变态跳台阶](https://www.nowcoder.com/practice/22243d016f6b47f2a6928b4313c85387)\n",
    "\n",
    "> 一只青蛙一次可以跳上1级台阶，也可以跳上2级……它也可以跳上n级。求该青蛙跳上一个n级的台阶总共有多少种跳法。\n",
    "\n",
    "**知识点：** `贪心`\n",
    "\n",
    "**思路：**\n",
    "1. f(n) = f(n-1) + f(n-2) + ... + f(0) 转为 f(n) = 2 * f(n-1)"
   ]
  },
  {
   "cell_type": "code",
   "execution_count": 17,
   "metadata": {
    "ExecuteTime": {
     "end_time": "2021-04-15T07:51:17.901233Z",
     "start_time": "2021-04-15T07:51:17.897596Z"
    }
   },
   "outputs": [],
   "source": [
    "# -*- coding:utf-8 -*-\n",
    "class Solution:\n",
    "    def jumpFloorII(self, number):\n",
    "        # f(n) = f(n-1) + f(n-2) + ... + f(0)\n",
    "        # f(n) = 2 * f(n-1)\n",
    "        if number == 0 or number == 1:\n",
    "            return 1\n",
    "        else:\n",
    "            a, b = 1, 2\n",
    "            for i in range(2, number + 1):\n",
    "                b = a << 1\n",
    "                a = b\n",
    "\n",
    "            return b"
   ]
  },
  {
   "cell_type": "markdown",
   "metadata": {},
   "source": [
    "## [10-矩形覆盖](https://www.nowcoder.com/practice/72a5a919508a4251859fb2cfb987a0e6)\n",
    "\n",
    "> 我们可以用2*1的小矩形横着或者竖着去覆盖更大的矩形。请问用n个2*1的小矩形无重叠地覆盖一个2*n的大矩形，总共有多少种方法？\n",
    "比如n=3时，2*3的矩形块有3种覆盖方法：\n",
    "\n",
    "**知识点：** `递归`\n",
    "\n",
    "**思路：**\n",
    "1. f(n) = f(n-1) + f(n-2)"
   ]
  },
  {
   "cell_type": "code",
   "execution_count": 19,
   "metadata": {
    "ExecuteTime": {
     "end_time": "2021-04-15T08:05:00.910576Z",
     "start_time": "2021-04-15T08:05:00.906753Z"
    }
   },
   "outputs": [],
   "source": [
    "# -*- coding:utf-8 -*-\n",
    "class Solution:\n",
    "    def rectCover(self, number):\n",
    "        if number < 3:\n",
    "            return number\n",
    "        else:\n",
    "            a, b = 1, 2\n",
    "            \n",
    "            for i in range(3, number + 1):\n",
    "                a, b = b, a + b\n",
    "                \n",
    "            return b"
   ]
  },
  {
   "cell_type": "markdown",
   "metadata": {},
   "source": [
    "## [11-二进制中1的个数](https://www.nowcoder.com/practice/8ee967e43c2c4ec193b040ea7fbb10b8)\n",
    "\n",
    "> 输入一个整数，输出该数32位二进制表示中1的个数。其中负数用补码表示。\n",
    "\n",
    "**知识点：** `数学`\n",
    "\n",
    "**思路：**"
   ]
  },
  {
   "cell_type": "code",
   "execution_count": 20,
   "metadata": {
    "ExecuteTime": {
     "end_time": "2021-04-15T08:23:59.452893Z",
     "start_time": "2021-04-15T08:23:59.450089Z"
    }
   },
   "outputs": [],
   "source": [
    "class Solution:\n",
    "    def NumberOf1(self, n):\n",
    "        count = 0\n",
    "        while n != 0:\n",
    "            n = (n - 1) & n\n",
    "            count = count + 1\n",
    "        return count"
   ]
  },
  {
   "cell_type": "markdown",
   "metadata": {},
   "source": [
    "## [12-数值的整数次方](https://www.nowcoder.com/practice/1a834e5e3e1a4b7ba251417554e07c00)\n",
    "\n",
    "> 给定一个double类型的浮点数base和int类型的整数exponent。求base的exponent次方。\n",
    "保证base和exponent不同时为0。不得使用库函数，同时不需要考虑大数问题，也不用考虑小数点后面0的位数。"
   ]
  },
  {
   "cell_type": "code",
   "execution_count": 21,
   "metadata": {
    "ExecuteTime": {
     "end_time": "2021-04-15T08:33:07.585755Z",
     "start_time": "2021-04-15T08:33:07.581544Z"
    }
   },
   "outputs": [],
   "source": [
    "# -*- coding:utf-8 -*-\n",
    "class Solution:\n",
    "    def Power(self, base, exponent):\n",
    "        # write code here\n",
    "        if exponent == 0:\n",
    "            return 1\n",
    "        else:\n",
    "            # 负数特殊处理\n",
    "            if exponent < 0:\n",
    "                base = 1/base\n",
    "                exponent = exponent * -1\n",
    "                \n",
    "            result = 1\n",
    "            \n",
    "            for _ in range(exponent):\n",
    "                result = result * base\n",
    "                \n",
    "            return result            "
   ]
  },
  {
   "cell_type": "markdown",
   "metadata": {},
   "source": []
  },
  {
   "cell_type": "code",
   "execution_count": null,
   "metadata": {},
   "outputs": [],
   "source": []
  },
  {
   "cell_type": "code",
   "execution_count": null,
   "metadata": {},
   "outputs": [],
   "source": []
  },
  {
   "cell_type": "code",
   "execution_count": null,
   "metadata": {},
   "outputs": [],
   "source": []
  },
  {
   "cell_type": "code",
   "execution_count": null,
   "metadata": {},
   "outputs": [],
   "source": []
  },
  {
   "cell_type": "code",
   "execution_count": null,
   "metadata": {},
   "outputs": [],
   "source": []
  },
  {
   "cell_type": "code",
   "execution_count": null,
   "metadata": {},
   "outputs": [],
   "source": []
  },
  {
   "cell_type": "markdown",
   "metadata": {},
   "source": [
    "## 参考资料\n",
    "\n",
    "1. [牛客网剑指offer](https://www.nowcoder.com/ta/coding-interviews)\n",
    "1. [知乎：剑指offer-Python版](https://zhuanlan.zhihu.com/p/75864673)\n",
    "1. [github: 剑指offer-Python版](https://github.com/apachecn/Interview/tree/master/docs/Algorithm/%E5%89%91%E6%8C%87offer/Python)\n",
    "1. [csdn: 剑指offer-Python版](https://blog.csdn.net/xuezhisdc/article/details/52125302)"
   ]
  },
  {
   "cell_type": "code",
   "execution_count": null,
   "metadata": {},
   "outputs": [],
   "source": []
  },
  {
   "cell_type": "markdown",
   "metadata": {},
   "source": [
    "\n",
    "\n"
   ]
  },
  {
   "cell_type": "markdown",
   "metadata": {},
   "source": []
  },
  {
   "cell_type": "markdown",
   "metadata": {},
   "source": []
  },
  {
   "cell_type": "markdown",
   "metadata": {},
   "source": []
  },
  {
   "cell_type": "markdown",
   "metadata": {},
   "source": []
  }
 ],
 "metadata": {
  "hide_input": false,
  "kernelspec": {
   "display_name": "Python 3",
   "language": "python",
   "name": "python3"
  },
  "language_info": {
   "codemirror_mode": {
    "name": "ipython",
    "version": 3
   },
   "file_extension": ".py",
   "mimetype": "text/x-python",
   "name": "python",
   "nbconvert_exporter": "python",
   "pygments_lexer": "ipython3",
   "version": "3.7.9"
  },
  "toc": {
   "base_numbering": 1,
   "nav_menu": {},
   "number_sections": true,
   "sideBar": true,
   "skip_h1_title": false,
   "title_cell": "Table of Contents",
   "title_sidebar": "Contents",
   "toc_cell": false,
   "toc_position": {},
   "toc_section_display": true,
   "toc_window_display": true
  },
  "varInspector": {
   "cols": {
    "lenName": 16,
    "lenType": 16,
    "lenVar": 40
   },
   "kernels_config": {
    "python": {
     "delete_cmd_postfix": "",
     "delete_cmd_prefix": "del ",
     "library": "var_list.py",
     "varRefreshCmd": "print(var_dic_list())"
    },
    "r": {
     "delete_cmd_postfix": ") ",
     "delete_cmd_prefix": "rm(",
     "library": "var_list.r",
     "varRefreshCmd": "cat(var_dic_list()) "
    }
   },
   "types_to_exclude": [
    "module",
    "function",
    "builtin_function_or_method",
    "instance",
    "_Feature"
   ],
   "window_display": false
  }
 },
 "nbformat": 4,
 "nbformat_minor": 2
}
