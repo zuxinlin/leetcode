{
 "cells": [
  {
   "cell_type": "markdown",
   "metadata": {},
   "source": [
    "# [剑指offer题解](https://www.nowcoder.com/ta/coding-interviews)\n",
    "\n",
    "## 参考资料\n",
    "\n",
    "1. [知乎：剑指offer-Python版](https://zhuanlan.zhihu.com/p/75864673)\n",
    "2. [github: 剑指offer-Python版](https://github.com/apachecn/Interview/tree/master/docs/Algorithm/%E5%89%91%E6%8C%87offer/Python)\n",
    "3. [csdn: 剑指offer-Python版](https://blog.csdn.net/xuezhisdc/article/details/52125302)\n"
   ]
  },
  {
   "cell_type": "markdown",
   "metadata": {},
   "source": [
    "## [01-二维数组中的查找](https://www.nowcoder.com/practice/abc3fe2ce8e146608e868a70efebf62e)\n",
    "\n",
    "> 在一个二维数组中（每个一维数组的长度相同），每一行都按照从左到右递增的顺序排序，每一列都按照从上到下递增的顺序排序。请完成一个函数，输入这样的一个二维数组和一个整数，判断数组中是否含有该整数。\n",
    "\n",
    "**知识点：**`数组` `查找`\n",
    "\n",
    "**解题思路：**\n",
    "\n",
    "1. 遍历整个二维数组，O(n^2) \n",
    "2. 从右上或者左下开始查找。从右上开始查找：如果数组中的数比这个整数大，向左移动一位，如果数组中的数比这个数小，向下移动一位，O(n)\n"
   ]
  },
  {
   "cell_type": "code",
   "execution_count": 1,
   "metadata": {},
   "outputs": [],
   "source": [
    "class Solution:\n",
    "    # array 二维列表\n",
    "    def Find(self, target, array):\n",
    "        # write code here\n",
    "        if not array:\n",
    "            return False\n",
    "        \n",
    "        num_row, num_col = len(array), len(array[0])\n",
    "        i, j = num_row - 1, 0\n",
    "        \n",
    "        while i >= 0 and j < num_col:\n",
    "            if array[i][j] < target:\n",
    "                j += 1\n",
    "            elif array[i][j] > target:\n",
    "                i-=1\n",
    "            else:\n",
    "                return True"
   ]
  },
  {
   "cell_type": "markdown",
   "metadata": {},
   "source": [
    "## [02-替换空格](https://www.nowcoder.com/practice/4060ac7e3e404ad1a894ef3e17650423)\n",
    "\n",
    "> 请实现一个函数，将一个字符串中的每个空格替换成“%20”。例如，当字符串为We Are Happy.则经过替换之后的字符串为We%20Are%20Happy。\n",
    "\n",
    "**知识点：**`字符串`\n",
    "\n",
    "**解题思路：**\n",
    "\n",
    "1. 先计算最终需要给出的长度，然后建立两个指针p1,p2，p1指向原始字符串的末尾，p2指向替换后的字符串的末尾。同时移动p1,p2, 将p1指的内容逐个复制到p2, 当p1遇到空格时，在p2处插入 %20， p1向前移动一个位置，p2向前移动3个位置，当p1和p2位置重合时，全部替换完成。O(n)\n",
    "2. python中可以利用append() [O(1)]，新建list，一次遍历，碰到空格就添加 %20，否则就添加原始字符串s内容\t"
   ]
  },
  {
   "cell_type": "code",
   "execution_count": null,
   "metadata": {},
   "outputs": [],
   "source": [
    "# -*- coding:utf-8 -*-\n",
    "class Solution:\n",
    "    # s 源字符串\n",
    "    def replaceSpace(self, s):\n",
    "        # write code here\n",
    "        if not s:\n",
    "            return s\n",
    "        \n",
    "        result = ''\n",
    "        \n",
    "        for c in s:\n",
    "            if c == ' ':\n",
    "                result += '%20'\n",
    "            else:\n",
    "                result += c\n",
    "                \n",
    "        return result"
   ]
  },
  {
   "cell_type": "markdown",
   "metadata": {},
   "source": [
    "## [03-从尾到头打印链表](https://www.nowcoder.com/practice/d0267f7f55b3412ba93bd35cfa8e8035)\n",
    "\n",
    "> 输入一个链表，按链表从尾到头的顺序返回一个ArrayList\n",
    "\n",
    "**知识点：**`链表`\n",
    "\n",
    "**解题思路：**\n",
    "\n",
    "1. 遍历链表，保存在list中，然后倒序输出.\n",
    "2. 同样使用list，但是将其插入在list的0位置处。"
   ]
  },
  {
   "cell_type": "code",
   "execution_count": 4,
   "metadata": {},
   "outputs": [],
   "source": [
    "# -*- coding:utf-8 -*-\n",
    "# class ListNode:\n",
    "#     def __init__(self, x):\n",
    "#         self.val = x\n",
    "#         self.next = None\n",
    "\n",
    "class Solution:\n",
    "    # 返回从尾部到头部的列表值序列，例如[1,2,3]\n",
    "    def printListFromTailToHead(self, listNode):\n",
    "        # write code here\n",
    "        if not listNode:\n",
    "            return []\n",
    "        \n",
    "        result, cur = [], listNode\n",
    "        \n",
    "        while cur:\n",
    "            result.append(cur.val)\n",
    "            cur = cur.next\n",
    "            \n",
    "        return result[::-1]"
   ]
  },
  {
   "cell_type": "markdown",
   "metadata": {},
   "source": [
    "## [04-重建二叉树](https://www.nowcoder.com/practice/8a19cbe657394eeaac2f6ea9b0f6fcf6)\n",
    "\n",
    "> 输入某二叉树的前序遍历和中序遍历的结果，请重建出该二叉树。假设输入的前序遍历和中序遍历的结果中都不含重复的数字。例如输入前序遍历序列{1,2,4,7,3,5,6,8}和中序遍历序列{4,7,2,1,5,3,8,6}，则重建二叉树并返回。\n",
    "\n",
    "**知识点：**`树`\n",
    "\n",
    "**解题思路：**\n",
    "\n",
    "1. 先序遍历和中序遍历的关系，先序遍历的第一个值是根节点的值。在中序遍历中，根节点左边的值是左子树，右边的值是右子树上的值"
   ]
  },
  {
   "cell_type": "code",
   "execution_count": 5,
   "metadata": {},
   "outputs": [],
   "source": [
    "# -*- coding:utf-8 -*-\n",
    "# class TreeNode:\n",
    "#     def __init__(self, x):\n",
    "#         self.val = x\n",
    "#         self.left = None\n",
    "#         self.right = None\n",
    "class Solution:\n",
    "    # 返回构造的TreeNode根节点\n",
    "    def reConstructBinaryTree(self, pre, tin):\n",
    "        # write code here\n",
    "        if not pre or not tin:\n",
    "            return None\n",
    "        \n",
    "        root,index = TreeNode(pre[0]), tin.index(pre[0])\n",
    "        root.left = self.reConstructBinaryTree(pre[1:index+1], tin[:index])\n",
    "        root.right = self.reConstructBinaryTree(pre[index+1:], tin[index+1:])\n",
    "        \n",
    "        return root"
   ]
  },
  {
   "cell_type": "markdown",
   "metadata": {},
   "source": [
    "## [05-用两个栈实现一个队列](https://www.nowcoder.com/practice/54275ddae22f475981afa2244dd448c6)\n",
    "\n",
    "> 用两个栈来实现一个队列，完成队列的Push和Pop操作。 队列中的元素为int类型。\n",
    "\n",
    "**知识点：**`队列` `栈`\n",
    "\n",
    "**解题思路：**\n",
    "\n",
    "1. 一个栈负责入队，另一个负责出队，出栈为空则从入栈中导入到出栈中"
   ]
  },
  {
   "cell_type": "code",
   "execution_count": 8,
   "metadata": {},
   "outputs": [],
   "source": [
    "# -*- coding:utf-8 -*-\n",
    "class Solution:\n",
    "    def __init__(self):\n",
    "        self.stack1 = []\n",
    "        self.stack2 = []\n",
    "    \n",
    "    def push(self, node):\n",
    "        # write code here\n",
    "        self.stack1.append(node)\n",
    "        \n",
    "    def pop(self):\n",
    "        # return xx\n",
    "        if len(self.stack1) == 0 and len(self.stack2) == 0:\n",
    "            return\n",
    "        elif len(self.stack2) == 0:\n",
    "            while self.stack1:\n",
    "                self.stack2.append(self.stack1.pop())\n",
    "            \n",
    "        return self.stack2.pop()"
   ]
  },
  {
   "cell_type": "markdown",
   "metadata": {},
   "source": []
  },
  {
   "cell_type": "markdown",
   "metadata": {},
   "source": []
  },
  {
   "cell_type": "markdown",
   "metadata": {},
   "source": []
  },
  {
   "cell_type": "markdown",
   "metadata": {},
   "source": []
  },
  {
   "cell_type": "markdown",
   "metadata": {},
   "source": []
  },
  {
   "cell_type": "markdown",
   "metadata": {},
   "source": []
  }
 ],
 "metadata": {
  "language_info": {
   "codemirror_mode": {
    "name": "ipython",
    "version": 3
   },
   "file_extension": ".py",
   "mimetype": "text/x-python",
   "name": "python",
   "nbconvert_exporter": "python",
   "pygments_lexer": "ipython3",
   "version": "3.7.4-final"
  },
  "orig_nbformat": 2,
  "kernelspec": {
   "name": "python37464bit166f77e74e6e4aa08a8504427989ddac",
   "display_name": "Python 3.7.4 64-bit"
  }
 },
 "nbformat": 4,
 "nbformat_minor": 2
}